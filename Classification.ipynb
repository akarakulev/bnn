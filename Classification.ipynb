{
 "cells": [
  {
   "cell_type": "code",
   "execution_count": 1,
   "metadata": {},
   "outputs": [],
   "source": [
    "%load_ext autoreload\n",
    "%autoreload 2"
   ]
  },
  {
   "cell_type": "code",
   "execution_count": 2,
   "metadata": {},
   "outputs": [],
   "source": [
    "import torch\n",
    "import time\n",
    "import numpy as np\n",
    "\n",
    "from torch import nn\n",
    "import torch.optim as optim\n",
    "import torch.nn.functional as F\n",
    "from torchvision import datasets, transforms\n",
    "\n",
    "import bnn\n",
    "from local_logger import Logger\n",
    "\n",
    "from matplotlib import pyplot as plt"
   ]
  },
  {
   "cell_type": "code",
   "execution_count": 3,
   "metadata": {},
   "outputs": [],
   "source": [
    "# use GPU for computation if possible\n",
    "DEVICE = torch.device('cuda' if torch.cuda.is_available() else 'cpu')"
   ]
  },
  {
   "cell_type": "code",
   "execution_count": 4,
   "metadata": {},
   "outputs": [],
   "source": [
    "# Load a dataset\n",
    "def get_mnist(batch_size):\n",
    "    transform = transforms.Compose([transforms.ToTensor(), transforms.Normalize((0.1307,), (0.3081,))])\n",
    "    train_loader = torch.utils.data.DataLoader(\n",
    "        datasets.MNIST('./data', train=True, download=True,\n",
    "        transform=transform), batch_size=batch_size, shuffle=True, num_workers=4)\n",
    "    test_loader = torch.utils.data.DataLoader(\n",
    "        datasets.MNIST('./data', train=False, download=True,\n",
    "        transform=transform), batch_size=batch_size, shuffle=True, num_workers=4)\n",
    "\n",
    "    return train_loader, test_loader"
   ]
  },
  {
   "cell_type": "code",
   "execution_count": 5,
   "metadata": {},
   "outputs": [],
   "source": [
    "MNIST_INPUT_SHAPE = 28 * 28\n",
    "MNIST_OUTPUT_SHAPE = 10\n",
    "\n",
    "# Define a simple 2 layer Network\n",
    "class Net(nn.Module):\n",
    "    def __init__(self): #, threshold):\n",
    "        super(Net, self).__init__()\n",
    "        self.fc1 = bnn.Linear(MNIST_INPUT_SHAPE, 300)\n",
    "        self.fc2 = bnn.Linear(300,  100)\n",
    "        self.fc3 = bnn.Linear(100,  MNIST_OUTPUT_SHAPE)\n",
    "\n",
    "    def forward(self, x):\n",
    "        x = F.relu(self.fc1(x))\n",
    "        x = F.relu(self.fc2(x))\n",
    "        x = F.log_softmax(self.fc3(x), dim=1)\n",
    "        return x"
   ]
  },
  {
   "cell_type": "code",
   "execution_count": 6,
   "metadata": {},
   "outputs": [],
   "source": [
    "model = Net().to(DEVICE)\n",
    "optimizer = optim.Adam(model.parameters(), lr=1e-3)\n",
    "scheduler = torch.optim.lr_scheduler.MultiStepLR(optimizer, milestones=[50,60,70,80], gamma=0.2)\n",
    "\n",
    "fmt = {'tr_los': '3.1e', 'te_loss': '3.1e', 'sp_0': '.3f', 'sp_1': '.3f', 'lr': '3.1e', 'kl': '.2f'}\n",
    "logger = Logger('sparse_vd', fmt=fmt)\n",
    "\n",
    "train_loader, test_loader = get_mnist(batch_size=100)\n",
    "loss_function = bnn.Loss(model, train_size=len(train_loader.dataset), problem='classification').to(DEVICE)"
   ]
  },
  {
   "cell_type": "code",
   "execution_count": 7,
   "metadata": {},
   "outputs": [
    {
     "name": "stdout",
     "output_type": "stream",
     "text": [
      "  epoch       lr    tr_los    tr_acc    te_loss    te_acc    kl_reg_0    kl_reg_1    kl_reg_2    time\n",
      "-------  -------  --------  --------  ---------  --------  ----------  ----------  ----------  ------\n",
      "      1  1.0e-03   1.8e+02      91.2    7.5e+01      96.1      -134.4       -23.3        -1.2     7.4\n",
      "      2  1.0e-03   6.5e+01      96.8    6.0e+01      96.8      -180.7       -33.3        -1.7     6.5\n",
      "      3  1.0e-03   4.5e+01      97.7    5.5e+01      97.2      -222.4       -41.5        -2.2     6.4\n",
      "      4  1.0e-03   3.4e+01      98.3    4.6e+01      97.8      -261.1       -49.3        -2.6     6.5\n",
      "      5  1.0e-03   2.8e+01      98.7    5.0e+01      97.7      -297.9       -56.7        -3.0     6.5\n",
      "      6  1.0e-03   2.5e+01      98.8    4.4e+01      98.2      -334.0       -64.3        -3.3     6.7\n",
      "      7  1.0e-03   2.0e+01      99.1    5.9e+01      97.5      -364.3       -70.9        -3.7     6.7\n",
      "      8  1.0e-03   1.9e+01      99.3    5.6e+01      97.8      -394.0       -77.5        -4.1     6.7\n",
      "      9  1.0e-03   1.8e+01      99.3    5.0e+01      98.0      -424.2       -84.2        -4.5     6.6\n",
      "     10  1.0e-03   1.7e+01      99.3    5.7e+01      97.8      -454.6       -91.2        -4.9     6.6\n",
      "     11  1.0e-03   1.6e+01      99.4    5.7e+01      97.8      -477.4       -96.5        -5.2     6.6\n",
      "     12  1.0e-03   1.6e+01      99.4    6.5e+01      97.8      -502.6      -101.9        -5.5     6.6\n",
      "     13  1.0e-03   1.5e+01      99.5    5.8e+01      98.1      -524.3      -107.1        -5.8     6.7\n",
      "     14  1.0e-03   1.5e+01      99.5    6.3e+01      98.0      -545.4      -111.9        -6.2     6.5\n",
      "     15  1.0e-03   1.5e+01      99.6    6.3e+01      97.9      -565.0      -116.5        -6.5     6.5\n",
      "     16  1.0e-03   1.6e+01      99.5    5.7e+01      98.2      -583.4      -121.1        -6.7     6.4\n",
      "     17  1.0e-03   1.4e+01      99.7    6.9e+01      97.8      -590.0      -123.8        -6.9     6.4\n",
      "     18  1.0e-03   1.6e+01      99.5    6.5e+01      98.0      -613.8      -129.0        -7.2     6.3\n",
      "     19  1.0e-03   1.4e+01      99.7    7.9e+01      97.9      -623.0      -131.3        -7.4     6.4\n",
      "     20  1.0e-03   1.4e+01      99.7    6.5e+01      98.1      -635.9      -134.6        -7.6     6.3\n",
      "     21  1.0e-03   1.5e+01      99.6    7.7e+01      97.9      -651.1      -138.4        -7.9     6.3\n",
      "     22  1.0e-03   1.6e+01      99.6    7.9e+01      97.6      -665.9      -142.0        -8.1     6.3\n",
      "     23  1.0e-03   1.4e+01      99.7    6.2e+01      98.1      -670.8      -143.6        -8.4     6.6\n",
      "     24  1.0e-03   1.5e+01      99.6    7.6e+01      98.0      -687.2      -147.1        -8.6     6.4\n",
      "     25  1.0e-03   1.3e+01      99.8    6.9e+01      98.2      -686.1      -148.6        -8.8     6.3\n",
      "     26  1.0e-03   1.5e+01      99.6    7.9e+01      97.9      -700.4      -151.3        -8.9     6.8\n",
      "     27  1.0e-03   1.3e+01      99.7    6.7e+01      98.2      -701.8      -152.9        -9.1     6.4\n",
      "     28  1.0e-03   1.4e+01      99.7    7.2e+01      98.2      -707.5      -154.5        -9.3     6.3\n",
      "     29  1.0e-03   1.4e+01      99.7    7.5e+01      98.0      -719.2      -156.5        -9.6     6.5\n",
      "     30  1.0e-03   1.4e+01      99.7    7.7e+01      98.1      -725.9      -158.4        -9.8     6.4\n",
      "     31  1.0e-03   1.6e+01      99.6    7.1e+01      98.0      -744.2      -161.6        -9.9     6.3\n",
      "     32  1.0e-03   1.3e+01      99.8    7.4e+01      98.1      -737.1      -161.7       -10.0     6.3\n",
      "     33  1.0e-03   1.4e+01      99.7    6.9e+01      98.3      -742.2      -164.1       -10.2     6.3\n",
      "     34  1.0e-03   1.5e+01      99.7    7.1e+01      98.1      -761.0      -166.7       -10.3     6.3\n",
      "     35  1.0e-03   1.4e+01      99.8    9.6e+01      97.5      -753.3      -166.7       -10.5     6.3\n",
      "     36  1.0e-03   1.4e+01      99.7    7.7e+01      98.1      -758.0      -168.6       -10.7     6.4\n",
      "     37  1.0e-03   1.4e+01      99.7    7.5e+01      98.0      -772.5      -170.1       -10.8     6.3\n",
      "     38  1.0e-03   1.5e+01      99.7    7.5e+01      98.2      -769.4      -171.0       -10.9     6.4\n",
      "     39  1.0e-03   1.4e+01      99.8    7.8e+01      98.1      -773.3      -171.9       -11.1     6.4\n",
      "     40  1.0e-03   1.4e+01      99.8    8.9e+01      97.8      -771.9      -172.5       -11.2     6.3\n"
     ]
    }
   ],
   "source": [
    "MNIST_INPUT_SHAPE = 28 * 28\n",
    "epochs = 40\n",
    "\n",
    "for epoch in range(1, epochs + 1):\n",
    "    start = time.time()\n",
    "    model.train()\n",
    "    train_loss, train_acc = 0, 0\n",
    "    logger.add_scalar(epoch, 'lr', scheduler.get_last_lr()[0])\n",
    "    for batch_idx, (data, target) in enumerate(train_loader):\n",
    "        data = data.to(DEVICE)\n",
    "        target = target.to(DEVICE)\n",
    "        data = data.view(-1, MNIST_INPUT_SHAPE)\n",
    "        optimizer.zero_grad()\n",
    "\n",
    "        output = model(data)\n",
    "        loss = loss_function(output, target)\n",
    "        loss.backward()\n",
    "        optimizer.step()\n",
    "\n",
    "        train_loss += loss\n",
    "        pred = output.data.max(1)[1]\n",
    "        train_acc += np.sum(pred.cpu().numpy() == target.cpu().data.numpy())\n",
    "\n",
    "    scheduler.step()\n",
    "\n",
    "    logger.add_scalar(epoch, 'tr_los', train_loss / len(train_loader.dataset))\n",
    "    logger.add_scalar(epoch, 'tr_acc', train_acc / len(train_loader.dataset) * 100)\n",
    "\n",
    "\n",
    "    model.eval()\n",
    "    test_loss, test_acc = 0, 0\n",
    "    for batch_idx, (data, target) in enumerate(test_loader):\n",
    "        data = data.to(DEVICE)\n",
    "        target = target.to(DEVICE)\n",
    "        data = data.view(-1, MNIST_INPUT_SHAPE)\n",
    "        output = model(data)\n",
    "        test_loss += float(loss_function(output, target)) #, kl_weight))\n",
    "        pred = output.data.max(1)[1]\n",
    "        test_acc += np.sum(pred.cpu().numpy() == target.cpu().data.numpy())\n",
    "\n",
    "    logger.add_scalar(epoch, 'te_loss', test_loss / len(test_loader.dataset))\n",
    "    logger.add_scalar(epoch, 'te_acc', test_acc / len(test_loader.dataset) * 100)\n",
    "\n",
    "    for i, c in enumerate(model.children()):\n",
    "        if hasattr(c, 'kl_reg'):\n",
    "            logger.add_scalar(epoch, 'kl_reg_%s' % i, -c.kl_reg())\n",
    "\n",
    "    end = time.time()\n",
    "    logger.add_scalar(epoch, 'time', end - start)\n",
    "\n",
    "    logger.iter_info()"
   ]
  },
  {
   "cell_type": "code",
   "execution_count": 10,
   "metadata": {},
   "outputs": [],
   "source": [
    "# plot a grid of `images` with `nrows` rows and `ncols` columns\n",
    "def plot_images(images, labels, targets, proba, nrows=4, ncols=4):\n",
    "    fig, axes = plt.subplots(nrows=nrows, ncols=ncols, figsize=(1.5*ncols, 1.5*nrows))\n",
    "    i = 0\n",
    "    for image, ax in zip(images, axes.flat):\n",
    "        # configure subplot\n",
    "        ax.set_xticks(())\n",
    "        ax.set_yticks(())\n",
    "        ax.grid(False)\n",
    "\n",
    "        # plot image\n",
    "        ax.imshow(image.view(28, 28).cpu().numpy(),\n",
    "                  vmin=0.0, vmax=1.0, cmap='gray_r')\n",
    "\n",
    "        # put the predicted label and the true target\n",
    "        ax.set_title(f\"{labels[i]} vs {targets[i]}, {proba[i]:.2f}\")\n",
    "        i += 1\n",
    "\n",
    "    plt.tight_layout()\n",
    "    return fig"
   ]
  },
  {
   "cell_type": "code",
   "execution_count": 14,
   "metadata": {},
   "outputs": [
    {
     "name": "stderr",
     "output_type": "stream",
     "text": [
      "/var/folders/jk/_35jq9kx1zlchrr2qjmy3tnr0000gn/T/ipykernel_63107/191033055.py:13: UserWarning: Matplotlib is currently using module://matplotlib_inline.backend_inline, which is a non-GUI backend, so cannot show the figure.\n",
      "  fig.show()\n"
     ]
    },
    {
     "data": {
      "image/png": "[encoded data removed]",
      "text/plain": [
       "<Figure size 600x600 with 16 Axes>"
      ]
     },
     "metadata": {},
     "output_type": "display_data"
    }
   ],
   "source": [
    "_, test_loader = get_mnist(batch_size=16)\n",
    "data, target = next(iter(test_loader))\n",
    "\n",
    "# model.train()\n",
    "data = data.to(DEVICE)\n",
    "target = target.to(DEVICE)\n",
    "data = data.view(-1, MNIST_INPUT_SHAPE)\n",
    "output = model(data)\n",
    "proba, pred = torch.exp(output).max(1)\n",
    "labels = pred.cpu().numpy()\n",
    "\n",
    "fig = plot_images(data, labels, target, proba)\n",
    "fig.show()"
   ]
  },
  {
   "cell_type": "code",
   "execution_count": null,
   "metadata": {},
   "outputs": [],
   "source": []
  }
 ],
 "metadata": {
  "kernelspec": {
   "display_name": "venv",
   "language": "python",
   "name": "python3"
  },
  "language_info": {
   "codemirror_mode": {
    "name": "ipython",
    "version": 3
   },
   "file_extension": ".py",
   "mimetype": "text/x-python",
   "name": "python",
   "nbconvert_exporter": "python",
   "pygments_lexer": "ipython3",
   "version": "3.9.6"
  },
  "orig_nbformat": 4
 },
 "nbformat": 4,
 "nbformat_minor": 2
}
