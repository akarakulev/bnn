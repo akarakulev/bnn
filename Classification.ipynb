{
 "cells": [
  {
   "cell_type": "code",
   "execution_count": 1,
   "metadata": {},
   "outputs": [],
   "source": [
    "%load_ext autoreload\n",
    "%autoreload 2"
   ]
  },
  {
   "cell_type": "code",
   "execution_count": 2,
   "metadata": {},
   "outputs": [],
   "source": [
    "import torch\n",
    "import time\n",
    "import numpy as np\n",
    "\n",
    "from torch import nn\n",
    "import torch.optim as optim\n",
    "import torch.nn.functional as F\n",
    "from torchvision import datasets, transforms\n",
    "\n",
    "import bnn\n",
    "from local_logger import Logger\n",
    "\n",
    "from matplotlib import pyplot as plt"
   ]
  },
  {
   "cell_type": "code",
   "execution_count": 3,
   "metadata": {},
   "outputs": [],
   "source": [
    "# use GPU for computation if possible\n",
    "DEVICE = torch.device('cuda' if torch.cuda.is_available() else 'cpu')"
   ]
  },
  {
   "cell_type": "code",
   "execution_count": 4,
   "metadata": {},
   "outputs": [],
   "source": [
    "# Load a dataset\n",
    "def get_mnist(batch_size):\n",
    "    transform = transforms.Compose([transforms.ToTensor(), transforms.Normalize((0.1307,), (0.3081,))])\n",
    "    train_loader = torch.utils.data.DataLoader(\n",
    "        datasets.MNIST('./data', train=True, download=True,\n",
    "        transform=transform), batch_size=batch_size, shuffle=True, num_workers=4)\n",
    "    test_loader = torch.utils.data.DataLoader(\n",
    "        datasets.MNIST('./data', train=False, download=True,\n",
    "        transform=transform), batch_size=batch_size, shuffle=True, num_workers=4)\n",
    "\n",
    "    return train_loader, test_loader"
   ]
  },
  {
   "cell_type": "code",
   "execution_count": 5,
   "metadata": {},
   "outputs": [],
   "source": [
    "MNIST_INPUT_SHAPE = 28 * 28\n",
    "MNIST_OUTPUT_SHAPE = 10\n",
    "\n",
    "class Net(nn.Module):\n",
    "    def __init__(self):\n",
    "        super(Net, self).__init__()\n",
    "        self.fc1 = bnn.Linear(MNIST_INPUT_SHAPE, 300)\n",
    "        self.fc2 = bnn.Linear(300,  100)\n",
    "        self.fc3 = bnn.Linear(100,  MNIST_OUTPUT_SHAPE)\n",
    "\n",
    "    def forward(self, x):\n",
    "        x = F.relu(self.fc1(x))\n",
    "        x = F.relu(self.fc2(x))\n",
    "        x = F.log_softmax(self.fc3(x), dim=1)\n",
    "        return x"
   ]
  },
  {
   "cell_type": "code",
   "execution_count": 6,
   "metadata": {},
   "outputs": [],
   "source": [
    "model = Net().to(DEVICE)\n",
    "optimizer = optim.Adam(model.parameters(), lr=1e-3)\n",
    "\n",
    "fmt = {'tr_loss': '3.1e', 'te_loss': '3.1e', 'sp_0': '.3f', 'sp_1': '.3f', 'kl': '.2f'}\n",
    "logger = Logger('sparse_vd', fmt=fmt)\n",
    "\n",
    "train_loader, test_loader = get_mnist(batch_size=100)\n",
    "loss_function = bnn.Loss(model, train_size=len(train_loader.dataset), problem='classification').to(DEVICE)"
   ]
  },
  {
   "cell_type": "code",
   "execution_count": 7,
   "metadata": {},
   "outputs": [
    {
     "name": "stdout",
     "output_type": "stream",
     "text": [
      "  epoch    tr_loss    tr_acc    te_loss    te_acc    kl_reg_0    kl_reg_1    kl_reg_2    time\n",
      "-------  ---------  --------  ---------  --------  ----------  ----------  ----------  ------\n",
      "      1    1.8e+02      90.8    8.1e+01      96.0       133.7        21.9         1.1     7.4\n",
      "      2    6.8e+01      96.6    6.5e+01      96.6       181.2        31.7         1.6     9.0\n",
      "      3    4.7e+01      97.6    5.2e+01      97.3       223.8        40.3         2.0     7.5\n",
      "      4    3.7e+01      98.2    5.2e+01      97.5       263.4        47.8         2.4     7.3\n",
      "      5    2.9e+01      98.6    4.7e+01      97.7       299.7        54.8         2.7     7.3\n",
      "      6    2.3e+01      98.9    5.3e+01      97.9       332.8        61.8         3.1     7.3\n",
      "      7    2.2e+01      99.0    5.3e+01      97.5       367.1        68.7         3.5     7.5\n",
      "      8    2.0e+01      99.1    5.4e+01      97.7       400.0        75.1         3.8     7.5\n",
      "      9    1.8e+01      99.3    5.1e+01      98.0       428.4        81.9         4.2     7.8\n",
      "     10    1.7e+01      99.4    5.3e+01      97.8       454.7        87.5         4.5     7.7\n",
      "     11    1.7e+01      99.3    5.0e+01      98.2       483.3        93.4         4.8     7.5\n",
      "     12    1.5e+01      99.5    5.7e+01      98.0       504.7        98.2         5.2     9.8\n",
      "     13    1.6e+01      99.5    9.1e+01      97.0       528.6       103.7         5.5     7.9\n",
      "     14    1.6e+01      99.5    5.5e+01      98.2       552.1       109.1         5.8     7.5\n",
      "     15    1.5e+01      99.5    7.2e+01      97.6       573.9       113.7         6.1     7.8\n",
      "     16    1.6e+01      99.5    7.0e+01      97.6       596.8       118.3         6.3     7.6\n",
      "     17    1.3e+01      99.7    6.3e+01      98.0       596.8       120.6         6.6     7.6\n",
      "     18    1.5e+01      99.6    6.0e+01      98.2       619.1       125.2         6.9     7.6\n",
      "     19    1.5e+01      99.6    6.2e+01      98.0       634.6       128.5         7.0     7.6\n",
      "     20    1.3e+01      99.7    6.5e+01      98.0       637.5       130.6         7.3     7.7\n",
      "     21    1.2e+01      99.8    5.8e+01      98.2       639.5       132.2         7.6     7.5\n",
      "     22    1.3e+01      99.7    7.3e+01      97.9       649.4       135.3         7.9    10.2\n",
      "     23    1.7e+01      99.5    7.3e+01      98.0       672.6       140.2         8.0     7.8\n",
      "     24    1.6e+01      99.6    7.3e+01      98.0       692.5       144.2         8.3     7.7\n",
      "     25    1.3e+01      99.8    6.4e+01      98.2       689.8       145.4         8.4     7.6\n",
      "     26    1.3e+01      99.8    6.7e+01      98.2       687.8       146.2         8.6     9.1\n",
      "     27    1.2e+01      99.8    7.0e+01      97.9       687.4       147.3         8.9     8.2\n",
      "     28    1.5e+01      99.7    6.8e+01      98.0       701.7       149.8         9.0     7.9\n",
      "     29    1.6e+01      99.6    7.4e+01      98.0       716.5       152.6         9.2     8.0\n",
      "     30    1.6e+01      99.6    7.1e+01      97.9       730.1       155.8         9.3     8.1\n",
      "     31    1.3e+01      99.8    6.7e+01      98.1       725.1       155.8         9.5     8.0\n",
      "     32    1.2e+01      99.8    7.8e+01      97.9       714.4       155.8         9.7    10.4\n",
      "     33    1.4e+01      99.7    8.3e+01      97.8       734.0       157.6         9.8     8.0\n",
      "     34    1.5e+01      99.7    6.6e+01      98.1       743.5       160.3         9.9     8.0\n",
      "     35    1.3e+01      99.8    7.1e+01      98.2       738.3       160.3        10.1     7.9\n",
      "     36    1.3e+01      99.8    6.7e+01      98.3       736.8       160.5        10.3     8.3\n",
      "     37    1.6e+01      99.6    6.2e+01      98.2       760.7       164.2        10.3     7.9\n",
      "     38    1.2e+01      99.8    8.4e+01      97.8       746.4       163.3        10.5     8.0\n",
      "     39    1.5e+01      99.7    6.6e+01      98.2       753.9       165.1        10.7     8.1\n",
      "     40    1.3e+01      99.8    7.2e+01      98.1       750.2       165.3        10.8     8.7\n"
     ]
    }
   ],
   "source": [
    "epochs = 40\n",
    "\n",
    "for epoch in range(1, epochs + 1):\n",
    "    start = time.time()\n",
    "    model.train()\n",
    "    train_loss, train_acc = 0, 0\n",
    "    for batch_idx, (data, target) in enumerate(train_loader):\n",
    "        data = data.to(DEVICE)\n",
    "        target = target.to(DEVICE)\n",
    "        data = data.view(-1, MNIST_INPUT_SHAPE)\n",
    "        optimizer.zero_grad()\n",
    "\n",
    "        output = model(data)\n",
    "        loss = loss_function(output, target)\n",
    "        loss.backward()\n",
    "        optimizer.step()\n",
    "\n",
    "        train_loss += loss\n",
    "        pred = output.data.max(1)[1]\n",
    "        train_acc += np.sum(pred.cpu().numpy() == target.cpu().data.numpy())\n",
    "\n",
    "    logger.add_scalar(epoch, 'tr_loss', train_loss / len(train_loader.dataset))\n",
    "    logger.add_scalar(epoch, 'tr_acc', train_acc / len(train_loader.dataset) * 100)\n",
    "\n",
    "\n",
    "    model.eval()\n",
    "    test_loss, test_acc = 0, 0\n",
    "    for batch_idx, (data, target) in enumerate(test_loader):\n",
    "        data = data.to(DEVICE)\n",
    "        target = target.to(DEVICE)\n",
    "        data = data.view(-1, MNIST_INPUT_SHAPE)\n",
    "        output = model(data)\n",
    "        test_loss += float(loss_function(output, target))\n",
    "        pred = output.data.max(1)[1]\n",
    "        test_acc += np.sum(pred.cpu().numpy() == target.cpu().data.numpy())\n",
    "\n",
    "    logger.add_scalar(epoch, 'te_loss', test_loss / len(test_loader.dataset))\n",
    "    logger.add_scalar(epoch, 'te_acc', test_acc / len(test_loader.dataset) * 100)\n",
    "\n",
    "    for i, c in enumerate(model.children()):\n",
    "        if hasattr(c, 'kl_reg'):\n",
    "            logger.add_scalar(epoch, 'kl_reg_%s' % i, c.kl_reg())\n",
    "\n",
    "    end = time.time()\n",
    "    logger.add_scalar(epoch, 'time', end - start)\n",
    "\n",
    "    logger.iter_info()"
   ]
  },
  {
   "attachments": {},
   "cell_type": "markdown",
   "metadata": {},
   "source": [
    "### Plot test results\n",
    "##### *Prediction* vs *True*, *Confidence* (softmax proba)"
   ]
  },
  {
   "cell_type": "code",
   "execution_count": 8,
   "metadata": {},
   "outputs": [],
   "source": [
    "# plot a grid of `images` with `nrows` rows and `ncols` columns\n",
    "def plot_images(images, labels, targets, proba, nrows=4, ncols=4):\n",
    "    fig, axes = plt.subplots(nrows=nrows, ncols=ncols, figsize=(1.5 * ncols, 1.5 * nrows))\n",
    "    i = 0\n",
    "    for image, ax in zip(images, axes.flat):\n",
    "        ax.set_xticks(())\n",
    "        ax.set_yticks(())\n",
    "        ax.grid(False)\n",
    "\n",
    "        image = image.view(28, 28).cpu().numpy()\n",
    "        ax.imshow(image, vmin=0.0, vmax=1.0, cmap='gray_r')\n",
    "\n",
    "        # put the predicted label, the true target, and prediction confidence\n",
    "        ax.set_title(f\"{labels[i]:.0f} vs {targets[i]:.0f}, {proba[i]:.2f}\")\n",
    "        i += 1\n",
    "\n",
    "    plt.tight_layout()\n",
    "    return fig"
   ]
  },
  {
   "cell_type": "code",
   "execution_count": 9,
   "metadata": {},
   "outputs": [
    {
     "name": "stderr",
     "output_type": "stream",
     "text": [
      "/var/folders/jk/_35jq9kx1zlchrr2qjmy3tnr0000gn/T/ipykernel_72366/3177259020.py:12: UserWarning: Matplotlib is currently using module://matplotlib_inline.backend_inline, which is a non-GUI backend, so cannot show the figure.\n",
      "  fig.show()\n"
     ]
    },
    {
     "data": {
      "image/png": "[encoded data removed]",
      "text/plain": [
       "<Figure size 600x600 with 16 Axes>"
      ]
     },
     "metadata": {},
     "output_type": "display_data"
    }
   ],
   "source": [
    "_, test_loader = get_mnist(batch_size=16)\n",
    "data, target = next(iter(test_loader))\n",
    "\n",
    "data = data.to(DEVICE)\n",
    "target = target.to(DEVICE)\n",
    "data = data.view(-1, MNIST_INPUT_SHAPE)\n",
    "output = model(data)\n",
    "proba, pred = torch.exp(output).max(1)\n",
    "labels = pred.cpu().numpy()\n",
    "\n",
    "fig = plot_images(data, labels, target, proba)\n",
    "fig.show()"
   ]
  },
  {
   "attachments": {},
   "cell_type": "markdown",
   "metadata": {},
   "source": [
    "### Rotate digit and see how confidence changes"
   ]
  },
  {
   "cell_type": "code",
   "execution_count": 10,
   "metadata": {},
   "outputs": [],
   "source": [
    "# Load a noisy test dataset\n",
    "def get_rotated_mnist_digits(angles):\n",
    "    transform = transforms.Compose([\n",
    "        transforms.ToTensor(), \n",
    "        transforms.Normalize((0.1307,), (0.3081,))\n",
    "    ])\n",
    "    loader = torch.utils.data.DataLoader(\n",
    "        datasets.MNIST('./data', train=False, download=False,\n",
    "        transform=transform), batch_size=1, shuffle=True)\n",
    "    digit, label = next(iter(loader))\n",
    "\n",
    "    digits = torch.Tensor(len(angles), *digit.size())\n",
    "    labels = torch.Tensor(len(angles), *label.size())\n",
    "    for i, angle in enumerate(angles):\n",
    "        rotation = transforms.RandomRotation(degrees=(angle, angle))\n",
    "        digits[i] = rotation(digit)\n",
    "        labels[i] = label\n",
    "    \n",
    "\n",
    "    return digits, labels"
   ]
  },
  {
   "cell_type": "code",
   "execution_count": 32,
   "metadata": {},
   "outputs": [
    {
     "name": "stderr",
     "output_type": "stream",
     "text": [
      "/var/folders/jk/_35jq9kx1zlchrr2qjmy3tnr0000gn/T/ipykernel_72366/2368626534.py:17: UserWarning: Matplotlib is currently using module://matplotlib_inline.backend_inline, which is a non-GUI backend, so cannot show the figure.\n",
      "  fig.show()\n"
     ]
    },
    {
     "data": {
      "image/png": "[encoded data removed]",
      "text/plain": [
       "<Figure size 900x150 with 6 Axes>"
      ]
     },
     "metadata": {},
     "output_type": "display_data"
    }
   ],
   "source": [
    "digits, labels = get_rotated_mnist_digits(angles=np.linspace(0, 90, 6))\n",
    "\n",
    "data = digits.to(DEVICE)\n",
    "data = data.view(-1, MNIST_INPUT_SHAPE)\n",
    "target = labels.to(DEVICE)\n",
    "\n",
    "# model.train()\n",
    "output = model(data)\n",
    "proba, pred = torch.exp(output).max(1)\n",
    "pred_label = pred.cpu()\n",
    "\n",
    "pred_label = pred_label.numpy().squeeze()\n",
    "target = target.numpy().squeeze()\n",
    "proba = proba.detach().numpy().squeeze()\n",
    "\n",
    "fig = plot_images(data, pred_label, target, proba, nrows=1, ncols=6)\n",
    "fig.show()"
   ]
  },
  {
   "cell_type": "code",
   "execution_count": null,
   "metadata": {},
   "outputs": [],
   "source": []
  }
 ],
 "metadata": {
  "kernelspec": {
   "display_name": "venv",
   "language": "python",
   "name": "python3"
  },
  "language_info": {
   "codemirror_mode": {
    "name": "ipython",
    "version": 3
   },
   "file_extension": ".py",
   "mimetype": "text/x-python",
   "name": "python",
   "nbconvert_exporter": "python",
   "pygments_lexer": "ipython3",
   "version": "3.9.6"
  },
  "orig_nbformat": 4
 },
 "nbformat": 4,
 "nbformat_minor": 2
}
