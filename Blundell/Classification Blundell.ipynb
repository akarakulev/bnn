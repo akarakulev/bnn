{
 "cells": [
  {
   "cell_type": "code",
   "execution_count": 1,
   "metadata": {},
   "outputs": [],
   "source": [
    "%load_ext autoreload\n",
    "%autoreload 2"
   ]
  },
  {
   "cell_type": "code",
   "execution_count": 2,
   "metadata": {},
   "outputs": [],
   "source": [
    "import torch\n",
    "import time\n",
    "import numpy as np\n",
    "\n",
    "from torch import nn\n",
    "import torch.optim as optim\n",
    "import torch.nn.functional as F\n",
    "from torchvision import datasets, transforms\n",
    "\n",
    "from local_logger import Logger\n",
    "import blundell\n",
    "\n",
    "from matplotlib import pyplot as plt"
   ]
  },
  {
   "cell_type": "code",
   "execution_count": 3,
   "metadata": {},
   "outputs": [],
   "source": [
    "# use GPU for computation if possible\n",
    "DEVICE = torch.device('cuda' if torch.cuda.is_available() else 'cpu')"
   ]
  },
  {
   "cell_type": "code",
   "execution_count": 4,
   "metadata": {},
   "outputs": [],
   "source": [
    "# Load a dataset\n",
    "def get_mnist(batch_size):\n",
    "    transform = transforms.Compose([transforms.ToTensor(), transforms.Normalize((0.1307,), (0.3081,))])\n",
    "    train_loader = torch.utils.data.DataLoader(\n",
    "        datasets.MNIST('./data', train=True, download=True,\n",
    "        transform=transform), batch_size=batch_size, shuffle=True, num_workers=4)\n",
    "    test_loader = torch.utils.data.DataLoader(\n",
    "        datasets.MNIST('./data', train=False, download=True,\n",
    "        transform=transform), batch_size=batch_size, shuffle=True, num_workers=4)\n",
    "\n",
    "    return train_loader, test_loader"
   ]
  },
  {
   "cell_type": "code",
   "execution_count": 5,
   "metadata": {},
   "outputs": [],
   "source": [
    "MNIST_INPUT_SHAPE = 28 * 28\n",
    "MNIST_OUTPUT_SHAPE = 10\n",
    "\n",
    "# Structure for 1-d curve fitting\n",
    "class Net(nn.Module):\n",
    "    def __init__(self):\n",
    "        super().__init__()\n",
    "        self.fc1 = blundell.Linear(MNIST_INPUT_SHAPE, 300)\n",
    "        self.fc2 = blundell.Linear(300,  100)\n",
    "        self.fc3 = blundell.Linear(100, MNIST_OUTPUT_SHAPE)\n",
    "\n",
    "    def forward(self, x):\n",
    "        x = F.relu(self.fc1(x))\n",
    "        x = F.relu(self.fc2(x))\n",
    "        x = F.log_softmax(self.fc3(x), dim=1)\n",
    "        return x"
   ]
  },
  {
   "cell_type": "code",
   "execution_count": 6,
   "metadata": {},
   "outputs": [],
   "source": [
    "model = Net().to(DEVICE)\n",
    "optimizer = optim.Adam(model.parameters(), lr=1e-4)\n",
    "\n",
    "fmt = {'tr_loss': '3.1e', 'te_loss': '3.1e', 'sp_0': '.3f', 'sp_1': '.3f', 'kl': '.2f'}\n",
    "logger = Logger('MNIST classification', fmt=fmt)\n",
    "\n",
    "train_loader, test_loader = get_mnist(batch_size=100)\n",
    "loss_function = blundell.Loss(model, train_size=len(train_loader.dataset), problem='classification').to(DEVICE)"
   ]
  },
  {
   "cell_type": "code",
   "execution_count": 7,
   "metadata": {},
   "outputs": [
    {
     "name": "stdout",
     "output_type": "stream",
     "text": [
      "  epoch    tr_loss    tr_acc    te_loss    te_acc    kl_reg_0    kl_reg_1    kl_reg_2    time\n",
      "-------  ---------  --------  ---------  --------  ----------  ----------  ----------  ------\n",
      "      1    5.3e+03      62.9    4.8e+03      89.9    402090.7     51580.2      1701.8    78.6\n",
      "      2    4.9e+03      84.5    4.7e+03      92.7    401834.4     51564.0      1726.2    79.2\n",
      "      3    4.8e+03      88.4    4.7e+03      94.1    402405.1     51228.5      1725.6    82.5\n",
      "      4    4.7e+03      90.7    4.7e+03      94.9    401527.1     51654.6      1769.6    78.4\n",
      "      5    4.7e+03      92.1    4.6e+03      95.3    401173.7     51359.4      1721.0    44.7\n",
      "      6    4.7e+03      93.1    4.6e+03      95.8    401111.7     51397.8      1720.0    45.2\n",
      "      7    4.7e+03      93.8    4.6e+03      96.1    400488.8     51431.5      1765.0    45.4\n",
      "      8    4.7e+03      94.4    4.6e+03      96.3    401481.1     51519.9      1738.9    44.3\n",
      "      9    4.6e+03      94.9    4.6e+03      96.6    400844.9     51342.7      1744.6    44.5\n",
      "     10    4.6e+03      95.3    4.6e+03      96.9    400329.7     51667.9      1737.3    45.0\n",
      "     11    4.6e+03      95.6    4.6e+03      97.1    401511.1     51308.1      1754.1   112.1\n",
      "     12    4.6e+03      96.0    4.6e+03      97.1    400273.4     51281.0      1699.7    48.0\n",
      "     13    4.6e+03      96.2    4.6e+03      97.3    400757.5     51265.6      1688.5    46.9\n",
      "     14    4.6e+03      96.4    4.6e+03      97.3    400868.6     51414.2      1674.6    55.4\n",
      "     15    4.6e+03      96.5    4.6e+03      97.5    399610.1     51504.1      1739.5    45.5\n",
      "     16    4.6e+03      96.8    4.6e+03      97.5    399766.8     51134.3      1712.6    45.2\n",
      "     17    4.6e+03      97.0    4.6e+03      97.5    400066.2     51225.6      1754.1    45.7\n",
      "     18    4.6e+03      97.1    4.6e+03      97.6    400097.7     51162.7      1726.4    45.4\n",
      "     19    4.6e+03      97.3    4.6e+03      97.7    399234.7     51214.3      1700.9    45.5\n",
      "     20    4.6e+03      97.4    4.6e+03      97.8    399669.6     51408.9      1674.1    45.3\n",
      "     21    4.6e+03      97.5    4.6e+03      97.7    399209.6     51247.0      1697.5    45.3\n",
      "     22    4.6e+03      97.6    4.6e+03      97.8    398946.7     51213.0      1781.0    45.4\n",
      "     23    4.6e+03      97.7    4.6e+03      97.9    398866.2     51119.1      1705.3    45.3\n",
      "     24    4.6e+03      97.8    4.6e+03      97.9    398576.4     51251.1      1697.7    45.4\n",
      "     25    4.6e+03      97.9    4.6e+03      97.9    398591.5     51120.4      1771.0    45.2\n",
      "     26    4.6e+03      98.0    4.6e+03      98.0    398476.7     51054.8      1761.9    46.3\n",
      "     27    4.6e+03      98.0    4.6e+03      98.0    398631.3     51053.0      1712.7    45.4\n",
      "     28    4.5e+03      98.2    4.6e+03      98.0    398697.4     51236.3      1764.3   920.8\n",
      "     29    4.5e+03      98.2    4.5e+03      98.0    398162.2     50969.4      1757.0    73.8\n",
      "     30    4.5e+03      98.2    4.5e+03      98.1    397428.8     51348.2      1717.1   114.3\n",
      "     31    4.5e+03      98.4    4.5e+03      98.1    397483.4     50988.9      1726.3   164.8\n",
      "     32    4.5e+03      98.5    4.5e+03      98.0    397833.0     51116.9      1730.8    45.9\n",
      "     33    4.5e+03      98.5    4.5e+03      98.2    398059.9     51022.8      1758.3    45.8\n",
      "     34    4.5e+03      98.5    4.5e+03      98.2    397187.1     50970.0      1776.0    45.2\n",
      "     35    4.5e+03      98.6    4.5e+03      98.2    397354.2     51340.9      1752.4    46.5\n",
      "     36    4.5e+03      98.6    4.5e+03      98.2    396296.6     51201.3      1715.3    45.6\n",
      "     37    4.5e+03      98.7    4.5e+03      98.2    397078.2     51326.8      1721.4    45.2\n",
      "     38    4.5e+03      98.7    4.5e+03      98.3    396578.3     51068.8      1734.3    45.8\n",
      "     39    4.5e+03      98.7    4.5e+03      98.2    397441.5     50871.4      1741.0    45.6\n",
      "     40    4.5e+03      98.8    4.5e+03      98.2    396817.1     50966.8      1749.3    45.6\n"
     ]
    }
   ],
   "source": [
    "epochs = 40\n",
    "\n",
    "for epoch in range(1, epochs + 1):\n",
    "    start = time.time()\n",
    "    model.train()\n",
    "    train_loss, train_acc = 0, 0\n",
    "    for batch_idx, (data, target) in enumerate(train_loader):\n",
    "        data = data.to(DEVICE)\n",
    "        target = target.to(DEVICE)\n",
    "        data = data.view(-1, MNIST_INPUT_SHAPE)\n",
    "        optimizer.zero_grad()\n",
    "\n",
    "        output = model(data)\n",
    "        loss = loss_function(data, target)\n",
    "        loss.backward()\n",
    "        optimizer.step()\n",
    "\n",
    "        train_loss += loss\n",
    "        pred = output.data.max(1)[1]\n",
    "        train_acc += np.sum(pred.cpu().numpy() == target.cpu().data.numpy())\n",
    "\n",
    "    logger.add_scalar(epoch, 'tr_loss', train_loss / len(train_loader.dataset))\n",
    "    logger.add_scalar(epoch, 'tr_acc', train_acc / len(train_loader.dataset) * 100)\n",
    "\n",
    "\n",
    "    model.eval()\n",
    "    test_loss, test_acc = 0, 0\n",
    "    for batch_idx, (data, target) in enumerate(test_loader):\n",
    "        data = data.to(DEVICE)\n",
    "        target = target.to(DEVICE)\n",
    "        data = data.view(-1, MNIST_INPUT_SHAPE)\n",
    "        output = model(data)\n",
    "        test_loss += float(loss_function(data, target)) #, kl_weight))\n",
    "        pred = output.data.max(1)[1]\n",
    "        test_acc += np.sum(pred.cpu().numpy() == target.cpu().data.numpy())\n",
    "\n",
    "    logger.add_scalar(epoch, 'te_loss', test_loss / len(test_loader.dataset))\n",
    "    logger.add_scalar(epoch, 'te_acc', test_acc / len(test_loader.dataset) * 100)\n",
    "\n",
    "    for i, c in enumerate(model.children()):\n",
    "        if hasattr(c, 'kl_reg'):\n",
    "            logger.add_scalar(epoch, 'kl_reg_%s' % i, c.kl_reg())\n",
    "\n",
    "    end = time.time()\n",
    "    logger.add_scalar(epoch, 'time', end - start)\n",
    "\n",
    "    logger.iter_info()"
   ]
  },
  {
   "attachments": {},
   "cell_type": "markdown",
   "metadata": {},
   "source": [
    "### Plot test results\n",
    "##### *Prediction* vs *True*, *Confidence* (softmax proba)"
   ]
  },
  {
   "cell_type": "code",
   "execution_count": 8,
   "metadata": {},
   "outputs": [],
   "source": [
    "# plot a grid of `images` with `nrows` rows and `ncols` columns\n",
    "def plot_images(images, labels, targets, proba, nrows=4, ncols=4):\n",
    "    fig, axes = plt.subplots(nrows=nrows, ncols=ncols, figsize=(1.5 * ncols, 1.5 * nrows))\n",
    "    i = 0\n",
    "    for image, ax in zip(images, axes.flat):\n",
    "        ax.set_xticks(())\n",
    "        ax.set_yticks(())\n",
    "        ax.grid(False)\n",
    "\n",
    "        image = image.view(28, 28).cpu().numpy()\n",
    "        ax.imshow(image, vmin=0.0, vmax=1.0, cmap='gray_r')\n",
    "\n",
    "        # put the predicted label, the true target, and prediction confidence\n",
    "        ax.set_title(f\"{labels[i]:.0f} vs {targets[i]:.0f}, {proba[i]:.2f}\")\n",
    "        i += 1\n",
    "\n",
    "    plt.tight_layout()\n",
    "    return fig"
   ]
  },
  {
   "cell_type": "code",
   "execution_count": 9,
   "metadata": {},
   "outputs": [
    {
     "name": "stderr",
     "output_type": "stream",
     "text": [
      "/var/folders/jk/_35jq9kx1zlchrr2qjmy3tnr0000gn/T/ipykernel_72404/3177259020.py:12: UserWarning: Matplotlib is currently using module://matplotlib_inline.backend_inline, which is a non-GUI backend, so cannot show the figure.\n",
      "  fig.show()\n"
     ]
    },
    {
     "data": {
      "image/png": "[encoded data removed]",
      "text/plain": [
       "<Figure size 600x600 with 16 Axes>"
      ]
     },
     "metadata": {},
     "output_type": "display_data"
    }
   ],
   "source": [
    "_, test_loader = get_mnist(batch_size=16)\n",
    "data, target = next(iter(test_loader))\n",
    "\n",
    "data = data.to(DEVICE)\n",
    "target = target.to(DEVICE)\n",
    "data = data.view(-1, MNIST_INPUT_SHAPE)\n",
    "output = model(data)\n",
    "proba, pred = torch.exp(output).max(1)\n",
    "labels = pred.cpu().numpy()\n",
    "\n",
    "fig = plot_images(data, labels, target, proba)\n",
    "fig.show()"
   ]
  },
  {
   "attachments": {},
   "cell_type": "markdown",
   "metadata": {},
   "source": [
    "### Rotate digit and see how confidence changes"
   ]
  },
  {
   "cell_type": "code",
   "execution_count": 10,
   "metadata": {},
   "outputs": [],
   "source": [
    "# Load a noisy test dataset\n",
    "def get_rotated_mnist_digits(angles):\n",
    "    transform = transforms.Compose([\n",
    "        # transforms.RandomRotation(degrees=(angle, angle)), \n",
    "        transforms.ToTensor(), \n",
    "        transforms.Normalize((0.1307,), (0.3081,))\n",
    "    ])\n",
    "    loader = torch.utils.data.DataLoader(\n",
    "        datasets.MNIST('./data', train=False, download=False,\n",
    "        transform=transform), batch_size=1, shuffle=True)\n",
    "    digit, label = next(iter(loader))\n",
    "\n",
    "    digits = torch.Tensor(len(angles), *digit.size())\n",
    "    labels = torch.Tensor(len(angles), *label.size())\n",
    "    for i, angle in enumerate(angles):\n",
    "        rotation = transforms.RandomRotation(degrees=(angle, angle))\n",
    "        digits[i] = rotation(digit)\n",
    "        labels[i] = label\n",
    "    \n",
    "\n",
    "    return digits, labels"
   ]
  },
  {
   "cell_type": "code",
   "execution_count": 11,
   "metadata": {},
   "outputs": [
    {
     "name": "stderr",
     "output_type": "stream",
     "text": [
      "/var/folders/jk/_35jq9kx1zlchrr2qjmy3tnr0000gn/T/ipykernel_72404/610398662.py:17: UserWarning: Matplotlib is currently using module://matplotlib_inline.backend_inline, which is a non-GUI backend, so cannot show the figure.\n",
      "  fig.show()\n"
     ]
    },
    {
     "data": {
      "image/png": "[encoded data removed]",
      "text/plain": [
       "<Figure size 900x150 with 6 Axes>"
      ]
     },
     "metadata": {},
     "output_type": "display_data"
    }
   ],
   "source": [
    "digits, labels = get_rotated_mnist_digits(angles=np.linspace(0, 90, 6))\n",
    "\n",
    "data = digits.to(DEVICE)\n",
    "data = data.view(-1, MNIST_INPUT_SHAPE)\n",
    "target = labels.to(DEVICE)\n",
    "\n",
    "# model.train()\n",
    "output = model(data)\n",
    "proba, pred = torch.exp(output).max(1)\n",
    "pred_label = pred.cpu()\n",
    "\n",
    "pred_label = pred_label.numpy().squeeze()\n",
    "target = target.numpy().squeeze()\n",
    "proba = proba.detach().numpy().squeeze()\n",
    "\n",
    "fig = plot_images(data, pred_label, target, proba, nrows=1, ncols=6)\n",
    "fig.show()"
   ]
  },
  {
   "cell_type": "code",
   "execution_count": null,
   "metadata": {},
   "outputs": [],
   "source": []
  }
 ],
 "metadata": {
  "kernelspec": {
   "display_name": "venv",
   "language": "python",
   "name": "python3"
  },
  "language_info": {
   "codemirror_mode": {
    "name": "ipython",
    "version": 3
   },
   "file_extension": ".py",
   "mimetype": "text/x-python",
   "name": "python",
   "nbconvert_exporter": "python",
   "pygments_lexer": "ipython3",
   "version": "3.9.6"
  },
  "orig_nbformat": 4
 },
 "nbformat": 4,
 "nbformat_minor": 2
}
