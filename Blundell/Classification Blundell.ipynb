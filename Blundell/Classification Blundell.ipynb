{
 "cells": [
  {
   "cell_type": "code",
   "execution_count": 1,
   "metadata": {},
   "outputs": [],
   "source": [
    "%load_ext autoreload\n",
    "%autoreload 2"
   ]
  },
  {
   "cell_type": "code",
   "execution_count": 7,
   "metadata": {},
   "outputs": [],
   "source": [
    "import torch\n",
    "import time\n",
    "import numpy as np\n",
    "\n",
    "from torch import nn\n",
    "import torch.optim as optim\n",
    "import torch.nn.functional as F\n",
    "from torchvision import datasets, transforms\n",
    "\n",
    "from local_logger import Logger\n",
    "import blundell\n",
    "\n",
    "from matplotlib import pyplot as plt"
   ]
  },
  {
   "cell_type": "code",
   "execution_count": 3,
   "metadata": {},
   "outputs": [],
   "source": [
    "# use GPU for computation if possible\n",
    "DEVICE = torch.device('cuda' if torch.cuda.is_available() else 'cpu')"
   ]
  },
  {
   "cell_type": "code",
   "execution_count": 4,
   "metadata": {},
   "outputs": [],
   "source": [
    "# Load a dataset\n",
    "def get_mnist(batch_size):\n",
    "    transform = transforms.Compose([transforms.ToTensor(), transforms.Normalize((0.1307,), (0.3081,))])\n",
    "    train_loader = torch.utils.data.DataLoader(\n",
    "        datasets.MNIST('./data', train=True, download=True,\n",
    "        transform=transform), batch_size=batch_size, shuffle=True, num_workers=4)\n",
    "    test_loader = torch.utils.data.DataLoader(\n",
    "        datasets.MNIST('./data', train=False, download=True,\n",
    "        transform=transform), batch_size=batch_size, shuffle=True, num_workers=4)\n",
    "\n",
    "    return train_loader, test_loader"
   ]
  },
  {
   "cell_type": "code",
   "execution_count": 20,
   "metadata": {},
   "outputs": [],
   "source": [
    "# Structure for 1-d curve fitting\n",
    "class Net(nn.Module):\n",
    "    def __init__(self):\n",
    "        super().__init__()\n",
    "        self.fc1 = blundell.Linear(28 * 28, 300)\n",
    "        self.fc2 = blundell.Linear(300,  100)\n",
    "        self.fc3 = blundell.Linear(100, 10)\n",
    "\n",
    "    def forward(self, x):\n",
    "        x = F.relu(self.fc1(x))\n",
    "        x = F.relu(self.fc2(x))\n",
    "        x = F.log_softmax(self.fc3(x), dim=1)\n",
    "        return x"
   ]
  },
  {
   "cell_type": "code",
   "execution_count": 21,
   "metadata": {},
   "outputs": [],
   "source": [
    "model = Net().to(DEVICE)\n",
    "optimizer = optim.Adam(model.parameters(), lr=1e-3)\n",
    "scheduler = torch.optim.lr_scheduler.MultiStepLR(optimizer, milestones=[50,60,70,80], gamma=0.2)\n",
    "\n",
    "fmt = {'tr_los': '3.1e', 'te_loss': '3.1e', 'sp_0': '.3f', 'sp_1': '.3f', 'lr': '3.1e', 'kl': '.2f'}\n",
    "logger = Logger('sparse_vd', fmt=fmt)\n",
    "\n",
    "train_loader, test_loader = get_mnist(batch_size=100)\n",
    "loss_function = blundell.Loss(model, train_size=len(train_loader.dataset), problem='classification').to(DEVICE)"
   ]
  },
  {
   "cell_type": "code",
   "execution_count": 22,
   "metadata": {},
   "outputs": [
    {
     "name": "stdout",
     "output_type": "stream",
     "text": [
      "  epoch       lr    tr_los    tr_acc    te_loss    te_acc    kl_reg_0    kl_reg_1    kl_reg_2    time\n",
      "-------  -------  --------  --------  ---------  --------  ----------  ----------  ----------  ------\n",
      "      1  1.0e-03   6.0e+02      84.4    5.8e+02      95.0   -499532.7    -64221.4     -2155.9    24.1\n",
      "      2  1.0e-03   5.8e+02      93.9    5.7e+02      96.3   -496542.3    -63899.4     -2171.6    17.0\n",
      "      3  1.0e-03   5.7e+02      95.5    5.6e+02      97.0   -493159.9    -63646.8     -2133.3    16.4\n",
      "      4  1.0e-03   5.6e+02      96.5    5.6e+02      97.4   -490195.6    -63316.5     -2157.2    16.7\n",
      "      5  1.0e-03   5.6e+02      96.9    5.6e+02      97.5   -487262.7    -63158.6     -2157.6    16.8\n",
      "      6  1.0e-03   5.6e+02      97.3    5.5e+02      97.7   -484900.8    -62875.0     -2180.7    16.6\n",
      "      7  1.0e-03   5.5e+02      97.7    5.5e+02      97.9   -482537.1    -62647.7     -2176.2    16.7\n",
      "      8  1.0e-03   5.5e+02      97.8    5.5e+02      97.8   -479968.1    -62384.0     -2139.5    16.6\n",
      "      9  1.0e-03   5.5e+02      98.1    5.5e+02      97.9   -477335.0    -62261.5     -2181.5    16.7\n",
      "     10  1.0e-03   5.4e+02      98.3    5.4e+02      97.9   -475098.0    -62104.8     -2151.6    16.7\n",
      "     11  1.0e-03   5.4e+02      98.3    5.4e+02      97.9   -472394.5    -61829.2     -2168.3    16.5\n",
      "     12  1.0e-03   5.4e+02      98.4    5.4e+02      98.0   -470015.4    -61572.2     -2157.1    16.8\n",
      "     13  1.0e-03   5.3e+02      98.6    5.3e+02      97.9   -466070.2    -61132.6     -2148.1    16.7\n",
      "     14  1.0e-03   5.3e+02      98.6    5.3e+02      97.8   -462401.8    -61059.7     -2178.3    16.7\n",
      "     15  1.0e-03   5.3e+02      98.8    5.2e+02      98.2   -458116.5    -60554.8     -2178.0    16.6\n",
      "     16  1.0e-03   5.2e+02      98.9    5.2e+02      98.1   -454057.6    -60432.2     -2146.6    16.7\n",
      "     17  1.0e-03   5.2e+02      98.9    5.1e+02      98.2   -448920.8    -59893.4     -2110.1    16.7\n",
      "     18  1.0e-03   5.1e+02      99.1    5.1e+02      98.1   -442163.0    -59611.2     -2167.0    16.7\n",
      "     19  1.0e-03   5.0e+02      99.1    5.0e+02      98.2   -434806.5    -59094.4     -2136.1    16.7\n",
      "     20  1.0e-03   4.9e+02      99.2    4.9e+02      98.1   -426332.6    -58515.3     -2129.5    16.7\n",
      "     21  1.0e-03   4.8e+02      99.2    4.8e+02      98.2   -415660.7    -57655.9     -2160.8    16.7\n",
      "     22  1.0e-03   4.7e+02      99.3    4.7e+02      98.0   -403410.1    -56997.8     -2128.5    16.6\n",
      "     23  1.0e-03   4.6e+02      99.3    4.5e+02      98.2   -389329.8    -56005.5     -2128.7    16.5\n",
      "     24  1.0e-03   4.4e+02      99.4    4.4e+02      98.2   -373965.8    -55225.3     -2104.5    16.5\n",
      "     25  1.0e-03   4.2e+02      99.4    4.2e+02      98.4   -357560.2    -53768.1     -2097.6    16.6\n",
      "     26  1.0e-03   4.0e+02      99.4    4.0e+02      98.3   -339120.3    -52081.8     -2089.6    16.6\n",
      "     27  1.0e-03   3.9e+02      99.5    3.8e+02      98.3   -321206.7    -50925.4     -2122.1    16.5\n",
      "     28  1.0e-03   3.6e+02      99.6    3.6e+02      98.5   -302230.2    -49530.5     -2063.9    16.6\n",
      "     29  1.0e-03   3.5e+02      99.6    3.4e+02      98.3   -284265.5    -47769.0     -2058.1    16.6\n",
      "     30  1.0e-03   3.3e+02      99.6    3.2e+02      98.3   -268074.7    -45673.7     -2063.4    16.6\n",
      "     31  1.0e-03   3.1e+02      99.6    3.0e+02      98.2   -251223.6    -43979.8     -2035.6    16.6\n",
      "     32  1.0e-03   2.9e+02      99.7    2.8e+02      98.3   -235487.4    -42135.7     -1996.5    16.6\n",
      "     33  1.0e-03   2.7e+02      99.6    2.7e+02      98.3   -221121.6    -40207.6     -1977.0    16.6\n",
      "     34  1.0e-03   2.6e+02      99.7    2.5e+02      98.3   -208433.8    -38262.6     -1912.1    16.5\n",
      "     35  1.0e-03   2.4e+02      99.7    2.4e+02      98.3   -195993.8    -36587.4     -1945.7    16.6\n",
      "     36  1.0e-03   2.3e+02      99.7    2.3e+02      98.3   -185266.3    -34958.3     -1946.5    16.6\n",
      "     37  1.0e-03   2.2e+02      99.7    2.2e+02      98.3   -175086.3    -33408.8     -1897.7    16.6\n",
      "     38  1.0e-03   2.1e+02      99.7    2.0e+02      98.4   -165874.7    -31692.7     -1871.5    16.6\n",
      "     39  1.0e-03   2.0e+02      99.8    1.9e+02      98.3   -157988.0    -30164.4     -1785.7    16.6\n",
      "     40  1.0e-03   1.9e+02      99.8    1.9e+02      98.3   -151066.4    -28936.1     -1807.8    16.6\n"
     ]
    }
   ],
   "source": [
    "MNIST_INPUT_SHAPE = 28 * 28\n",
    "epochs = 40\n",
    "\n",
    "for epoch in range(1, epochs + 1):\n",
    "    start = time.time()\n",
    "    model.train()\n",
    "    train_loss, train_acc = 0, 0\n",
    "    logger.add_scalar(epoch, 'lr', scheduler.get_last_lr()[0])\n",
    "    for batch_idx, (data, target) in enumerate(train_loader):\n",
    "        data = data.to(DEVICE)\n",
    "        target = target.to(DEVICE)\n",
    "        data = data.view(-1, MNIST_INPUT_SHAPE)\n",
    "        optimizer.zero_grad()\n",
    "\n",
    "        output = model(data)\n",
    "        loss = loss_function(data, target)\n",
    "        loss.backward()\n",
    "        optimizer.step()\n",
    "\n",
    "        train_loss += loss\n",
    "        pred = output.data.max(1)[1]\n",
    "        train_acc += np.sum(pred.cpu().numpy() == target.cpu().data.numpy())\n",
    "\n",
    "    scheduler.step()\n",
    "\n",
    "    logger.add_scalar(epoch, 'tr_los', train_loss / len(train_loader.dataset))\n",
    "    logger.add_scalar(epoch, 'tr_acc', train_acc / len(train_loader.dataset) * 100)\n",
    "\n",
    "\n",
    "    model.eval()\n",
    "    test_loss, test_acc = 0, 0\n",
    "    for batch_idx, (data, target) in enumerate(test_loader):\n",
    "        data = data.to(DEVICE)\n",
    "        target = target.to(DEVICE)\n",
    "        data = data.view(-1, MNIST_INPUT_SHAPE)\n",
    "        output = model(data)\n",
    "        test_loss += float(loss_function(data, target)) #, kl_weight))\n",
    "        pred = output.data.max(1)[1]\n",
    "        test_acc += np.sum(pred.cpu().numpy() == target.cpu().data.numpy())\n",
    "\n",
    "    logger.add_scalar(epoch, 'te_loss', test_loss / len(test_loader.dataset))\n",
    "    logger.add_scalar(epoch, 'te_acc', test_acc / len(test_loader.dataset) * 100)\n",
    "\n",
    "    for i, c in enumerate(model.children()):\n",
    "        if hasattr(c, 'kl_reg'):\n",
    "            logger.add_scalar(epoch, 'kl_reg_%s' % i, -c.kl_reg())\n",
    "\n",
    "    end = time.time()\n",
    "    logger.add_scalar(epoch, 'time', end - start)\n",
    "\n",
    "    logger.iter_info()"
   ]
  },
  {
   "attachments": {},
   "cell_type": "markdown",
   "metadata": {},
   "source": [
    "### Plot test results:\n",
    "##### *Prediction* vs *True*, *Confidence* (softmax proba)"
   ]
  },
  {
   "cell_type": "code",
   "execution_count": 110,
   "metadata": {},
   "outputs": [],
   "source": [
    "# plot a grid of `images` with `nrows` rows and `ncols` columns\n",
    "def plot_images(images, labels, targets, proba, nrows=4, ncols=4):\n",
    "    fig, axes = plt.subplots(nrows=nrows, ncols=ncols, figsize=(1.5 * ncols, 1.5 * nrows))\n",
    "    i = 0\n",
    "    for image, ax in zip(images, axes.flat):\n",
    "        # configure subplot\n",
    "        ax.set_xticks(())\n",
    "        ax.set_yticks(())\n",
    "        ax.grid(False)\n",
    "\n",
    "        # plot image\n",
    "        # if type(image) == torch.Tensor:\n",
    "        image = image.view(28, 28).cpu().numpy()\n",
    "        ax.imshow(image, vmin=0.0, vmax=1.0, cmap='gray_r')\n",
    "\n",
    "        # put the predicted label and the true target\n",
    "        ax.set_title(f\"{labels[i]:.0f} vs {targets[i]:.0f}, {proba[i]:.2f}\")\n",
    "        i += 1\n",
    "\n",
    "    plt.tight_layout()\n",
    "    return fig"
   ]
  },
  {
   "cell_type": "code",
   "execution_count": 111,
   "metadata": {},
   "outputs": [
    {
     "name": "stderr",
     "output_type": "stream",
     "text": [
      "/var/folders/jk/_35jq9kx1zlchrr2qjmy3tnr0000gn/T/ipykernel_55834/3177259020.py:12: UserWarning: Matplotlib is currently using module://matplotlib_inline.backend_inline, which is a non-GUI backend, so cannot show the figure.\n",
      "  fig.show()\n"
     ]
    },
    {
     "data": {
      "image/png": "[encoded data removed]",
      "text/plain": [
       "<Figure size 600x600 with 16 Axes>"
      ]
     },
     "metadata": {},
     "output_type": "display_data"
    }
   ],
   "source": [
    "_, test_loader = get_mnist(batch_size=16)\n",
    "data, target = next(iter(test_loader))\n",
    "\n",
    "data = data.to(DEVICE)\n",
    "target = target.to(DEVICE)\n",
    "data = data.view(-1, MNIST_INPUT_SHAPE)\n",
    "output = model(data)\n",
    "proba, pred = torch.exp(output).max(1)\n",
    "labels = pred.cpu().numpy()\n",
    "\n",
    "fig = plot_images(data, labels, target, proba)\n",
    "fig.show()"
   ]
  },
  {
   "attachments": {},
   "cell_type": "markdown",
   "metadata": {},
   "source": [
    "### Rotate digit and see how confidence changes"
   ]
  },
  {
   "cell_type": "code",
   "execution_count": 112,
   "metadata": {},
   "outputs": [],
   "source": [
    "# Load a noisy test dataset\n",
    "def get_rotated_mnist_digits(angles):\n",
    "    transform = transforms.Compose([\n",
    "        # transforms.RandomRotation(degrees=(angle, angle)), \n",
    "        transforms.ToTensor(), \n",
    "        transforms.Normalize((0.1307,), (0.3081,))\n",
    "    ])\n",
    "    loader = torch.utils.data.DataLoader(\n",
    "        datasets.MNIST('./data', train=False, download=False,\n",
    "        transform=transform), batch_size=1, shuffle=True)\n",
    "    digit, label = next(iter(loader))\n",
    "\n",
    "    digits = torch.Tensor(len(angles), *digit.size())\n",
    "    labels = torch.Tensor(len(angles), *label.size())\n",
    "    for i, angle in enumerate(angles):\n",
    "        rotation = transforms.RandomRotation(degrees=(angle, angle))\n",
    "        digits[i] = rotation(digit)\n",
    "        labels[i] = label\n",
    "    \n",
    "\n",
    "    return digits, labels"
   ]
  },
  {
   "cell_type": "code",
   "execution_count": 114,
   "metadata": {},
   "outputs": [
    {
     "name": "stderr",
     "output_type": "stream",
     "text": [
      "/var/folders/jk/_35jq9kx1zlchrr2qjmy3tnr0000gn/T/ipykernel_55834/2368626534.py:17: UserWarning: Matplotlib is currently using module://matplotlib_inline.backend_inline, which is a non-GUI backend, so cannot show the figure.\n",
      "  fig.show()\n"
     ]
    },
    {
     "data": {
      "image/png": "[encoded data removed]",
      "text/plain": [
       "<Figure size 900x150 with 6 Axes>"
      ]
     },
     "metadata": {},
     "output_type": "display_data"
    }
   ],
   "source": [
    "digits, labels = get_rotated_mnist_digits(angles=np.linspace(0, 90, 6))\n",
    "\n",
    "data = digits.to(DEVICE)\n",
    "data = data.view(-1, MNIST_INPUT_SHAPE)\n",
    "target = labels.to(DEVICE)\n",
    "\n",
    "# model.train()\n",
    "output = model(data)\n",
    "proba, pred = torch.exp(output).max(1)\n",
    "pred_label = pred.cpu()\n",
    "\n",
    "pred_label = pred_label.numpy().squeeze()\n",
    "target = target.numpy().squeeze()\n",
    "proba = proba.detach().numpy().squeeze()\n",
    "\n",
    "fig = plot_images(data, pred_label, target, proba, nrows=1, ncols=6)\n",
    "fig.show()"
   ]
  },
  {
   "cell_type": "code",
   "execution_count": null,
   "metadata": {},
   "outputs": [],
   "source": []
  }
 ],
 "metadata": {
  "kernelspec": {
   "display_name": "venv",
   "language": "python",
   "name": "python3"
  },
  "language_info": {
   "codemirror_mode": {
    "name": "ipython",
    "version": 3
   },
   "file_extension": ".py",
   "mimetype": "text/x-python",
   "name": "python",
   "nbconvert_exporter": "python",
   "pygments_lexer": "ipython3",
   "version": "3.9.6"
  },
  "orig_nbformat": 4
 },
 "nbformat": 4,
 "nbformat_minor": 2
}
